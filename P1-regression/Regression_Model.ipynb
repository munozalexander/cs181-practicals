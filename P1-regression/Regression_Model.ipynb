{
 "cells": [
  {
   "cell_type": "code",
   "execution_count": 3,
   "metadata": {},
   "outputs": [
    {
     "name": "stderr",
     "output_type": "stream",
     "text": [
      "Using TensorFlow backend.\n"
     ]
    }
   ],
   "source": [
    "from __future__ import division\n",
    "import numpy as np\n",
    "import pandas as pd\n",
    "import matplotlib.pyplot as plt\n",
    "import pickle\n",
    "from keras.models import Sequential, load_model\n",
    "from keras.layers import Dense, Dropout, LSTM\n",
    "from keras.utils import np_utils\n",
    "from sklearn.linear_model import LinearRegression\n",
    "from sklearn.ensemble import RandomForestRegressor"
   ]
  },
  {
   "cell_type": "code",
   "execution_count": 2,
   "metadata": {
    "collapsed": true
   },
   "outputs": [],
   "source": [
    "def rmse(preds):\n",
    "    return np.sqrt(np.mean((np.array(preds)-y_valid)**2))"
   ]
  },
  {
   "cell_type": "code",
   "execution_count": 6,
   "metadata": {},
   "outputs": [
    {
     "name": "stdout",
     "output_type": "stream",
     "text": [
      "DATA LOADED:\n",
      "X_train shape: (81920, 2048)  |  y_train shape: (81920,)\n",
      "X_valid shape: (20481, 2048)  |  y_valid shape: (20481,)\n"
     ]
    }
   ],
   "source": [
    "def load_train_valid(trainfile, validation_split=0):\n",
    "    ''' load training data '''\n",
    "    df_train = pd.read_csv(trainfile)\n",
    "    df_train_gap = df_train.pad\n",
    "    df_train = df_train.drop(['pad', 'smiles'], axis=1)\n",
    "    df_train = df_train.values\n",
    "    X_train = df_train[:int(df_train.shape[0]*(1-validation_split))]\n",
    "    y_train = df_train_gap[:int(df_train.shape[0]*(1-validation_split))]\n",
    "    print \"DATA LOADED:\"\n",
    "    print \"X_train shape:\", X_train.shape, \" |  y_train shape:\", y_train.shape\n",
    "    if validation_split is not 0:\n",
    "        X_valid = df_train[int(df_train.shape[0]*(1-validation_split)):]\n",
    "        y_valid = df_train_gap[int(df_train.shape[0]*(1-validation_split)):]\n",
    "        print \"X_valid shape:\", X_valid.shape, \" |  y_valid shape:\", y_valid.shape\n",
    "        return X_train, y_train, X_valid, y_valid\n",
    "    else:\n",
    "        return X_train, y_train, None, None\n",
    "\n",
    "X_train, y_train, X_valid, y_valid = load_train_valid('Data/morganfingerprint_train_100K.csv.gz',\\\n",
    "                                                      validation_split = 0.2)"
   ]
  },
  {
   "cell_type": "code",
   "execution_count": 34,
   "metadata": {
    "collapsed": true
   },
   "outputs": [],
   "source": [
    "def load_test(testfile):\n",
    "    ''' load test data '''\n",
    "    df_test = pd.read_csv(testfile)\n",
    "    df_test = df_test.drop(['Id', 'smiles'], axis=1)\n",
    "    return df_test.values\n",
    "\n",
    "X_test = load_test('test.csv.gz')"
   ]
  },
  {
   "cell_type": "code",
   "execution_count": 13,
   "metadata": {
    "collapsed": true
   },
   "outputs": [],
   "source": [
    "X_test = pd.read_csv('Data/morganfingerprint_test_800K.csv.gz', header=None).drop(0, axis=1)\n",
    "X_test = X_test.values"
   ]
  },
  {
   "cell_type": "code",
   "execution_count": null,
   "metadata": {
    "collapsed": true
   },
   "outputs": [],
   "source": [
    "# linear regression - original dataframe\n",
    "LR = LinearRegression()\n",
    "LR.fit(X_train, y_train)\n",
    "LR_pred = LR.predict(X_valid)\n",
    "LR_rmse = rmse(LR_pred)\n",
    "print \"Linear Regression RMSE:\", LR_rmse"
   ]
  },
  {
   "cell_type": "code",
   "execution_count": 7,
   "metadata": {},
   "outputs": [
    {
     "name": "stdout",
     "output_type": "stream",
     "text": [
      "Linear Regression RMSE: 110.832719538\n"
     ]
    }
   ],
   "source": [
    "# linear regression - different fingerprints\n",
    "LR = LinearRegression()\n",
    "LR.fit(X_train, y_train)\n",
    "LR_pred = LR.predict(X_valid)\n",
    "LR_rmse = rmse(LR_pred)\n",
    "print \"Linear Regression RMSE:\", LR_rmse"
   ]
  },
  {
   "cell_type": "code",
   "execution_count": 4,
   "metadata": {},
   "outputs": [
    {
     "name": "stdout",
     "output_type": "stream",
     "text": [
      "Random Forest Regression RMSE: 0.273389041375\n"
     ]
    }
   ],
   "source": [
    "# random forest - original dataframe\n",
    "RF = RandomForestRegressor()\n",
    "RF.fit(X_train, y_train)\n",
    "RF_pred = RF.predict(X_valid)\n",
    "RF_rmse = rmse(RF_pred)\n",
    "print \"Random Forest Regression RMSE:\", RF_rmse"
   ]
  },
  {
   "cell_type": "code",
   "execution_count": 8,
   "metadata": {},
   "outputs": [
    {
     "name": "stdout",
     "output_type": "stream",
     "text": [
      "Random Forest Regression RMSE: 0.109962810099\n"
     ]
    }
   ],
   "source": [
    "# random forest - different fingerprints\n",
    "RF = RandomForestRegressor()\n",
    "RF.fit(X_train, y_train)\n",
    "RF_pred = RF.predict(X_valid)\n",
    "RF_rmse = rmse(RF_pred)\n",
    "print \"Random Forest Regression RMSE:\", RF_rmse"
   ]
  },
  {
   "cell_type": "code",
   "execution_count": 21,
   "metadata": {
    "collapsed": true
   },
   "outputs": [],
   "source": [
    "pickle.dump(RF, open('RF_100k.p', 'wb'))"
   ]
  },
  {
   "cell_type": "code",
   "execution_count": 27,
   "metadata": {
    "scrolled": false
   },
   "outputs": [
    {
     "name": "stdout",
     "output_type": "stream",
     "text": [
      "Epoch 1/20\n",
      "1000000/1000000 [==============================] - 70s 70us/step - loss: 0.0863\n",
      "Epoch 2/20\n",
      "1000000/1000000 [==============================] - 67s 67us/step - loss: 0.0770\n",
      "Epoch 3/20\n",
      "1000000/1000000 [==============================] - 63s 63us/step - loss: 0.0761\n",
      "Epoch 4/20\n",
      "1000000/1000000 [==============================] - 70s 70us/step - loss: 0.0757\n",
      "Epoch 5/20\n",
      "1000000/1000000 [==============================] - 68s 68us/step - loss: 0.0754\n",
      "Epoch 6/20\n",
      "1000000/1000000 [==============================] - 62s 62us/step - loss: 0.0753\n",
      "Epoch 7/20\n",
      "1000000/1000000 [==============================] - 62s 62us/step - loss: 0.0751\n",
      "Epoch 8/20\n",
      "1000000/1000000 [==============================] - 61s 61us/step - loss: 0.0750\n",
      "Epoch 9/20\n",
      "1000000/1000000 [==============================] - 64s 64us/step - loss: 0.0750\n",
      "Epoch 10/20\n",
      "1000000/1000000 [==============================] - 65s 65us/step - loss: 0.0749\n",
      "Epoch 11/20\n",
      "1000000/1000000 [==============================] - 64s 64us/step - loss: 0.0749\n",
      "Epoch 12/20\n",
      "1000000/1000000 [==============================] - 65s 65us/step - loss: 0.0748\n",
      "Epoch 13/20\n",
      "1000000/1000000 [==============================] - 68s 68us/step - loss: 0.0748\n",
      "Epoch 14/20\n",
      "1000000/1000000 [==============================] - 63s 63us/step - loss: 0.0748\n",
      "Epoch 15/20\n",
      "1000000/1000000 [==============================] - 65s 65us/step - loss: 0.0748\n",
      "Epoch 16/20\n",
      "1000000/1000000 [==============================] - 65s 65us/step - loss: 0.0747\n",
      "Epoch 17/20\n",
      "1000000/1000000 [==============================] - 68s 68us/step - loss: 0.0747\n",
      "Epoch 18/20\n",
      "1000000/1000000 [==============================] - 63s 63us/step - loss: 0.0747\n",
      "Epoch 19/20\n",
      "1000000/1000000 [==============================] - 67s 67us/step - loss: 0.0747\n",
      "Epoch 20/20\n",
      "1000000/1000000 [==============================] - 65s 65us/step - loss: 0.0746\n"
     ]
    }
   ],
   "source": [
    "# neural net\n",
    "model = Sequential()\n",
    "model.add(Dense(128, input_shape=(256,), activation='relu'))\n",
    "model.add(Dense(1, activation='linear'))\n",
    "model.compile(loss='mean_squared_error', optimizer='adam')\n",
    "history = model.fit(X_train, y_train, batch_size=128, epochs=20, validation_split=0.1)"
   ]
  },
  {
   "cell_type": "code",
   "execution_count": 23,
   "metadata": {},
   "outputs": [
    {
     "name": "stdout",
     "output_type": "stream",
     "text": [
      "300000/300000 [==============================] - 12s 40us/step\n"
     ]
    },
    {
     "data": {
      "text/plain": [
       "0.076093788065314291"
      ]
     },
     "execution_count": 23,
     "metadata": {},
     "output_type": "execute_result"
    }
   ],
   "source": [
    "model.evaluate(X_valid, y_valid)"
   ]
  },
  {
   "cell_type": "code",
   "execution_count": 28,
   "metadata": {
    "collapsed": true
   },
   "outputs": [],
   "source": [
    "##### SAVE MODEL #####\n",
    "model.save('nn_model.h5')"
   ]
  },
  {
   "cell_type": "code",
   "execution_count": 3,
   "metadata": {
    "collapsed": true
   },
   "outputs": [],
   "source": [
    "model = load_model('nn_model.h5')"
   ]
  },
  {
   "cell_type": "code",
   "execution_count": 8,
   "metadata": {},
   "outputs": [],
   "source": [
    "RF = pickle.load(open( \"Models/RF_100k.p\", \"rb\" ))"
   ]
  },
  {
   "cell_type": "code",
   "execution_count": null,
   "metadata": {
    "collapsed": true
   },
   "outputs": [],
   "source": [
    "def prediction_generator():\n",
    "    f1 = gzip.open('test.csv.gz', 'rb')\n",
    "    next(f1, None)\n",
    "    fbuf = io.BufferedReader(f1)\n",
    "    for j, line in enumerate(fbuf):\n",
    "        smile = line.decode('utf-8').split(',', 2)[1]\n",
    "        l = AllChem.GetMorganFingerprintAsBitVect(Chem.MolFromSmiles(smile), 2)\n",
    "        arr = np.zeros((1,))\n",
    "        DataStructs.ConvertToNumpyArray(l, arr)\n",
    "        yield RF.predict(X_test[0,:].reshape(1, -1))[0]"
   ]
  },
  {
   "cell_type": "code",
   "execution_count": null,
   "metadata": {
    "collapsed": true
   },
   "outputs": [],
   "source": [
    "with open(filename, \"w\") as f:\n",
    "    f.write(\"Id,Prediction\\n\")\n",
    "    for i,p in enumerate(predictions):\n",
    "        f.write(str(i+1) + \",\" + str(p) + \"\\n\")"
   ]
  },
  {
   "cell_type": "code",
   "execution_count": null,
   "metadata": {
    "collapsed": true
   },
   "outputs": [],
   "source": []
  },
  {
   "cell_type": "code",
   "execution_count": 43,
   "metadata": {
    "collapsed": true
   },
   "outputs": [],
   "source": [
    "with open('nn_preds.csv', 'w') as f:\n",
    "    f.write(\"Id,Prediction\\n\")\n",
    "    for i in range(X_test.shape[0]):\n",
    "        pred_curr = model.predict(X_test[0,:].reshape(1,X_test.shape[1]))[0][0]\n",
    "        f.write(str(i+1) + ',' + str(pred_curr) + '\\n')"
   ]
  },
  {
   "cell_type": "code",
   "execution_count": 16,
   "metadata": {
    "collapsed": true
   },
   "outputs": [],
   "source": [
    "def write_to_file(filename, predictions):\n",
    "    with open(filename, \"w\") as f:\n",
    "        f.write(\"Id,Prediction\\n\")\n",
    "        for i,p in enumerate(predictions):\n",
    "            f.write(str(i+1) + \",\" + str(p) + \"\\n\")"
   ]
  },
  {
   "cell_type": "code",
   "execution_count": 18,
   "metadata": {
    "collapsed": true
   },
   "outputs": [],
   "source": [
    "RF_pred = RF.predict(X_test)\n",
    "write_to_file('Predictions/rf.csv', RF_pred)"
   ]
  },
  {
   "cell_type": "code",
   "execution_count": null,
   "metadata": {
    "collapsed": true
   },
   "outputs": [],
   "source": []
  }
 ],
 "metadata": {
  "kernelspec": {
   "display_name": "Python [Root]",
   "language": "python",
   "name": "Python [Root]"
  },
  "language_info": {
   "codemirror_mode": {
    "name": "ipython",
    "version": 2
   },
   "file_extension": ".py",
   "mimetype": "text/x-python",
   "name": "python",
   "nbconvert_exporter": "python",
   "pygments_lexer": "ipython2",
   "version": "2.7.13"
  }
 },
 "nbformat": 4,
 "nbformat_minor": 2
}
