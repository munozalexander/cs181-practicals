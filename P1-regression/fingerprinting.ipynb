{
 "cells": [
  {
   "cell_type": "code",
   "execution_count": 2,
   "metadata": {},
   "outputs": [
    {
     "name": "stderr",
     "output_type": "stream",
     "text": [
      "Using TensorFlow backend.\n"
     ]
    }
   ],
   "source": [
    "from rdkit import Chem\n",
    "from rdkit.Chem.Draw import IPythonConsole\n",
    "from rdkit.Chem import ChemicalFeatures, Descriptors\n",
    "from rdkit import RDConfig\n",
    "from rdkit.Chem.Fingerprints import FingerprintMols\n",
    "from keras.utils import np_utils\n",
    "import pandas as pd\n",
    "import gzip\n",
    "import csv\n",
    "import os\n",
    "import io\n",
    "from collections import Counter\n",
    "fdefName = os.path.join(RDConfig.RDDataDir, 'BaseFeatures.fdef')\n",
    "factory = ChemicalFeatures.BuildFeatureFactory(fdefName)"
   ]
  },
  {
   "cell_type": "code",
   "execution_count": 19,
   "metadata": {},
   "outputs": [
    {
     "data": {
      "image/png": "[encoded data removed]",
      "text/plain": [
       "<rdkit.Chem.rdchem.Mol at 0x7f08595d6d70>"
      ]
     },
     "execution_count": 19,
     "metadata": {},
     "output_type": "execute_result"
    }
   ],
   "source": [
    "m1 = Chem.MolFromSmiles('c1ccc(o1)-c1ccc(s1)-c1cnc(-c2scc3[se]ccc23)c2nsnc12')\n",
    "m2 = Chem.MolFromSmiles('C1=CC=C(C1)c1cc2ncc3c4[SiH2]C=Cc4ncc3c2c2=C[SiH2]C=c12')\n",
    "m1"
   ]
  },
  {
   "cell_type": "code",
   "execution_count": 3,
   "metadata": {},
   "outputs": [
    {
     "data": {
      "text/plain": [
       "'Acceptor'"
      ]
     },
     "execution_count": 3,
     "metadata": {},
     "output_type": "execute_result"
    }
   ],
   "source": [
    "feats = factory.GetFeaturesForMol(m)\n",
    "feats[0].GetFamily()"
   ]
  },
  {
   "cell_type": "code",
   "execution_count": 83,
   "metadata": {},
   "outputs": [
    {
     "data": {
      "text/plain": [
       "2048"
      ]
     },
     "execution_count": 83,
     "metadata": {},
     "output_type": "execute_result"
    }
   ],
   "source": [
    "bit_fp1 = FingerprintMols.FingerprintMol(m1) #this returns 2048 bits\n",
    "bit_fp2 = FingerprintMols.FingerprintMol(m2)\n",
    "len([f for f in bit_fp1])"
   ]
  },
  {
   "cell_type": "code",
   "execution_count": 42,
   "metadata": {},
   "outputs": [
    {
     "data": {
      "text/plain": [
       "0"
      ]
     },
     "execution_count": 42,
     "metadata": {},
     "output_type": "execute_result"
    }
   ],
   "source": [
    "Descriptors.fr_Ar_NH(m1)"
   ]
  },
  {
   "cell_type": "code",
   "execution_count": 64,
   "metadata": {},
   "outputs": [],
   "source": [
    "f1 = gzip.open('test.csv.gz', 'rb')\n",
    "f2 = gzip.open('fingerprintmols_test.csv.gz', 'wb')\n",
    "reader = csv.reader(f1)\n",
    "writer = csv.writer(f2, delimiter=',')\n",
    "next(f1, None)\n",
    "\n",
    "fbuf = io.BufferedReader(f1)\n",
    "outlines = []\n",
    "for j, line in enumerate(fbuf):\n",
    "    smile = line.split(',', 2)[1]\n",
    "    l = [f for f in FingerprintMols.FingerprintMol(Chem.MolFromSmiles(smile))]\n",
    "    outlines += [','.join(map(str, [smile] + l)) + '\\n']\n",
    "    if j % 1024 == 0:\n",
    "        f2.writelines(outlines)\n",
    "        outlines = []\n",
    "f2.close()"
   ]
  },
  {
   "cell_type": "code",
   "execution_count": null,
   "metadata": {},
   "outputs": [],
   "source": []
  }
 ],
 "metadata": {
  "kernelspec": {
   "display_name": "Python 2",
   "language": "python",
   "name": "python2"
  },
  "language_info": {
   "codemirror_mode": {
    "name": "ipython",
    "version": 2
   },
   "file_extension": ".py",
   "mimetype": "text/x-python",
   "name": "python",
   "nbconvert_exporter": "python",
   "pygments_lexer": "ipython2",
   "version": "2.7.14"
  }
 },
 "nbformat": 4,
 "nbformat_minor": 2
}
